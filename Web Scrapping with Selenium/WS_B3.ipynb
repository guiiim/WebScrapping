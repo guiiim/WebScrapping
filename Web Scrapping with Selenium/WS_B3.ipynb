{
 "cells": [
  {
   "cell_type": "markdown",
   "id": "0af34978",
   "metadata": {},
   "source": [
    "# Web Scrapping\n",
    "\n",
    "### Projeto realizado para capturar indíce da Ibovespa e os 5 ativos com maior crescimento do dia.\n",
    "\n",
    "No projeto foi utilizado o selenium para fazer a automação do Google Chrome para abrir as páginas onde se encontram as informações e capturar os dados.\n",
    "Na manipulação de dados (leitura, organização e exportação) foi utilizado o pacote pandas e para os arquivos externos foi considerado arquivos em formato Excel (.xlsx).\n",
    "\n",
    "Qualquer dúvida, os sites de consulta para os comandos do selenium foram:\n",
    "\n",
    "https://selenium-python.readthedocs.io/ - \n",
    "https://www.selenium.dev/documentation/"
   ]
  },
  {
   "cell_type": "markdown",
   "id": "934fa2f1",
   "metadata": {},
   "source": [
    "-----------------------------------------------------------------------------------------------\n",
    "Criado por Guilherme Augusto Magalhães para fins acadêmicos em 10/10/2022\n",
    "\n",
    "Contato: guiiimagalhaes@gmail.com\n",
    "\n",
    "-----------------------------------------------------------------------------------------------"
   ]
  },
  {
   "cell_type": "markdown",
   "id": "a9f42662",
   "metadata": {},
   "source": [
    "# Instalação do selenium\n",
    "\n",
    "Executar apenas na primeira vez, caso não tenha o pacote selenium"
   ]
  },
  {
   "cell_type": "code",
   "execution_count": 1,
   "id": "3a9a86e7",
   "metadata": {
    "scrolled": true
   },
   "outputs": [],
   "source": [
    "#!pip install selenium"
   ]
  },
  {
   "cell_type": "markdown",
   "id": "6b0fd2a0",
   "metadata": {},
   "source": [
    "# Ajustes iniciais\n",
    "\n",
    "### Importação dos pacotes\n",
    "\n",
    "Os pacotes utilizados do Selenium foram os pacotes apontados conforme documentação.\n",
    "Além deles, foi utilizado o pacote pandas para manipulação dos data frames e o pacote datetime para registrar a data que foi atualizado"
   ]
  },
  {
   "cell_type": "code",
   "execution_count": 2,
   "id": "3759de8a",
   "metadata": {},
   "outputs": [],
   "source": [
    "from selenium import webdriver #Controlar o navegador\n",
    "from selenium.webdriver.common.keys import Keys #Escrever dados no navegador\n",
    "from selenium.webdriver.common.by import By #Selecionar itens do navegador\n",
    "\n",
    "import pandas as pd\n",
    "\n",
    "from datetime import date"
   ]
  },
  {
   "cell_type": "markdown",
   "id": "9ebfe207",
   "metadata": {},
   "source": [
    "### Ajuste da data"
   ]
  },
  {
   "cell_type": "code",
   "execution_count": 3,
   "id": "8624a822",
   "metadata": {},
   "outputs": [],
   "source": [
    "date = date.today()\n",
    "date = date.strftime(\"%d/%m/%Y\")"
   ]
  },
  {
   "cell_type": "markdown",
   "id": "e1027cbf",
   "metadata": {},
   "source": [
    "### Leitura dos arquivos com dados passados ou criação de tabela nova\n",
    "\n",
    "Na primeira execução, não irá existir nenhum arquivo histórico.\n",
    "Para esse caso, foi criado uma estrutura de try/except para verificar se existem os arquivos com dados históricos e caso contrário criar os data frames novos."
   ]
  },
  {
   "cell_type": "code",
   "execution_count": 4,
   "id": "f7caab37",
   "metadata": {},
   "outputs": [],
   "source": [
    "try:\n",
    "    dfIndices = pd.read_excel(\"Indices.xlsx\")\n",
    "    dfAcoes = pd.read_excel(\"Acoes.xlsx\")\n",
    "except:\n",
    "    names = [\"Data\", \"Indice\", \"Pontos\", \"Variacao\"]\n",
    "    dfIndices = pd.DataFrame(columns = names)\n",
    "    names = [\"Data\", \"Ativo\", \"Valor\", \"Variacao Dia\", \"Variacao Semana\", \"Variacao Mes\", \"Variacao Ano\", \"Variacao 12 meses\", \"Valor Minimo\", \"Valor Maximo\"]\n",
    "    dfAcoes = pd.DataFrame(columns = names)"
   ]
  },
  {
   "cell_type": "markdown",
   "id": "83d9afea",
   "metadata": {},
   "source": [
    "# Web Scrapping\n",
    "\n",
    "## Dados do Ibovespa"
   ]
  },
  {
   "cell_type": "markdown",
   "id": "88b5ecc8",
   "metadata": {},
   "source": [
    "### Abrindo o navegador e acessando o site"
   ]
  },
  {
   "cell_type": "code",
   "execution_count": 5,
   "id": "96e8368b",
   "metadata": {},
   "outputs": [],
   "source": [
    "navegador = webdriver.Chrome() \n",
    "    #Comando para abrir um novo navegador controlado pelo selenium\n",
    "\n",
    "navegador.get(\"https://www.b3.com.br/pt_br/\")\n",
    "    #Comando para acessar o site informado\n",
    "    #Nesse caso, para extrair o índice da Ibovesta foi utilizado o site da B3"
   ]
  },
  {
   "cell_type": "markdown",
   "id": "76072bba",
   "metadata": {},
   "source": [
    "### Fazendo a leitura dos dados\n",
    "\n",
    "Para leitura dos dados, foi utilizado o método 'find_element' do webdriver.\n",
    "\n",
    "Ele requisita dois parâmetros: tipo de elemento e tag do elemento.\n",
    "\n",
    "    -Tipo de elemento: Foi utilizado o XPATH devido o mesmo ser fácil de encontrar e configurar.\n",
    "    -Tag do elemento: Basta abrir a janela de inspeção do navegador e, clicando com o botão direito, selecionar Copy -> XPath, no painel de inspeção dos elementos da página HTML."
   ]
  },
  {
   "cell_type": "code",
   "execution_count": 6,
   "id": "9e3267c6",
   "metadata": {},
   "outputs": [],
   "source": [
    "#Leitura dos dados\n",
    "variacao = navegador.find_element(By.XPATH, \"//div[@id='ibovPct']\").text\n",
    "pontos = navegador.find_element(By.XPATH, \"//div[@id='ibovPts']\").text"
   ]
  },
  {
   "cell_type": "markdown",
   "id": "345b79ca",
   "metadata": {},
   "source": [
    "### Verificação dos dados"
   ]
  },
  {
   "cell_type": "markdown",
   "id": "d3d70a8b",
   "metadata": {},
   "source": [
    "Ao executar as primeiras leituras, pode=se verificar que os dados vieram com os símbolos (% e 'pts') e no formato texto (string), conforme registrado abaixo:\n",
    "\n",
    "print(str(variacao) + \" \" + str(type(variacao))) ->  -0,37% <class 'str'>\n",
    "\n",
    "print(str(pontos) + \" \" + str(type(pontos))) ->  115.940pts <class 'str'>"
   ]
  },
  {
   "cell_type": "markdown",
   "id": "c5501089",
   "metadata": {},
   "source": [
    "Para esse caso foi retirado os símbolos e ajustado os valores:\n",
    "\n",
    "    -Para a variação foi trocado a vírgula por ponto e transformado em float (número decimal)\n",
    "    -Para o valor foi retirado o ponto e transformado em int (número inteiro)"
   ]
  },
  {
   "cell_type": "code",
   "execution_count": 7,
   "id": "f5c273ae",
   "metadata": {},
   "outputs": [],
   "source": [
    "variacao = variacao.replace(\"%\",\"\")\n",
    "variacao = variacao.replace(\",\",\".\")\n",
    "variacao = float(variacao)\n",
    "\n",
    "pontos = pontos.replace(\"pts\",\"\")\n",
    "pontos = pontos.replace(\".\",\"\")\n",
    "pontos = int(pontos)"
   ]
  },
  {
   "cell_type": "markdown",
   "id": "e821066b",
   "metadata": {},
   "source": [
    "Após essa transformação, pode-se verificar que os dados ficaram configurados corretamente:\n",
    "\n",
    "print(str(variacao) + \" \" + str(type(variacao))) -> -0.37 <class 'float'>\n",
    "\n",
    "print(str(pontos) + \" \" + str(type(pontos))) -> 115940 <class 'int'>"
   ]
  },
  {
   "cell_type": "markdown",
   "id": "0bb6c87e",
   "metadata": {},
   "source": [
    "### Registro dos dados na tabela"
   ]
  },
  {
   "cell_type": "markdown",
   "id": "b2942ffa",
   "metadata": {},
   "source": [
    "Com os dados prontos em variáveis, basta fazer um append (acrescentar no fim) no data frame com os dados dos Índices"
   ]
  },
  {
   "cell_type": "code",
   "execution_count": 8,
   "id": "47ef614a",
   "metadata": {},
   "outputs": [],
   "source": [
    "dfIndices = dfIndices.append({'Data': date, 'Indice': \"Ibovespa\", 'Pontos': pontos, 'Variacao': variacao}, ignore_index = True)"
   ]
  },
  {
   "cell_type": "markdown",
   "id": "8f3fed21",
   "metadata": {},
   "source": [
    "## Dados das ações"
   ]
  },
  {
   "cell_type": "markdown",
   "id": "926d72f7",
   "metadata": {},
   "source": [
    "### Abrindo o navegador e acessando o site"
   ]
  },
  {
   "cell_type": "code",
   "execution_count": 9,
   "id": "1097e3c9",
   "metadata": {},
   "outputs": [],
   "source": [
    "navegador.get(\"https://www.infomoney.com.br/ferramentas/altas-e-baixas/\")\n",
    "    #Comando para acessar o site informado"
   ]
  },
  {
   "cell_type": "markdown",
   "id": "288cea61",
   "metadata": {},
   "source": [
    "No site informado, existe uma tabela organizada decrescentemente pela variação do dia com todas as ações da bolsa, contendo algumas informações a respeito dos ativos.\n",
    "\n",
    "Para esse caso, foram extraídos os dados dos 5 ativos com maior variação positiva no dia. Caso seja necessário alterar a quantidade de ativos a serem verificados, basta mudar a variável abaixo"
   ]
  },
  {
   "cell_type": "code",
   "execution_count": 10,
   "id": "fbaf7e09",
   "metadata": {},
   "outputs": [],
   "source": [
    "r = 5"
   ]
  },
  {
   "cell_type": "markdown",
   "id": "7301e734",
   "metadata": {},
   "source": [
    "### Fazendo a extração, transformação  e carregamento dos dados\n",
    "\n",
    "Como será extraído mais que apenas um ativo, foi criado um loop for para o processo, de acordo com o número configurado na linha acima.\n",
    "\n",
    "#### Extração\n",
    "    Foi utilizado o mesmo método anteriormente utilizado, com um pequeno ajuste na tag do elemento para que o mesmo percorra as linhas da tabela.\n",
    "\n",
    "#### Transformação\n",
    "    Conforme verificado na primeira extração, os dados necessitam de alguns ajustes. Nessa tabela não existe nenhum símbolo junto do valor, mas deve ser necessário alterar a vírgula para ponto para que o pandas reconheça corretamente.\n",
    "\n",
    "#### Carregamento\n",
    "    Também foi utilizado um append no data frame para carregar todos os dados dos ativos, fazendo a conversão para float no momento de carregamento..\n"
   ]
  },
  {
   "cell_type": "code",
   "execution_count": 11,
   "id": "8106459f",
   "metadata": {},
   "outputs": [],
   "source": [
    "for i in range(r):\n",
    "    #Extração dos dados\n",
    "    ativo = navegador.find_element(By.XPATH, '//*[@id=\"altas_e_baixas\"]/tbody/tr[' + str(i+1) + ']/td[1]/a').text\n",
    "    valor = navegador.find_element(By.XPATH, '//*[@id=\"altas_e_baixas\"]/tbody/tr[' + str(i+1) + ']/td[3]').text\n",
    "    varDia = navegador.find_element(By.XPATH, '//*[@id=\"altas_e_baixas\"]/tbody/tr[' + str(i+1) + ']/td[4]').text\n",
    "    varSem = navegador.find_element(By.XPATH, '//*[@id=\"altas_e_baixas\"]/tbody/tr[' + str(i+1) + ']/td[5]').text\n",
    "    varMes = navegador.find_element(By.XPATH, '//*[@id=\"altas_e_baixas\"]/tbody/tr[' + str(i+1) + ']/td[6]').text\n",
    "    varAno = navegador.find_element(By.XPATH, '//*[@id=\"altas_e_baixas\"]/tbody/tr[' + str(i+1) + ']/td[7]').text\n",
    "    var12Mes = navegador.find_element(By.XPATH, '//*[@id=\"altas_e_baixas\"]/tbody/tr[' + str(i+1) + ']/td[8]').text\n",
    "    valMin = navegador.find_element(By.XPATH, '//*[@id=\"altas_e_baixas\"]/tbody/tr[' + str(i+1) + ']/td[9]').text\n",
    "    valMax = navegador.find_element(By.XPATH, '//*[@id=\"altas_e_baixas\"]/tbody/tr[' + str(i+1) + ']/td[10]').text\n",
    "    \n",
    "    #Transformação dos dados\n",
    "    valor = valor.replace(\",\",\".\")\n",
    "    varDia = varDia.replace(\",\",\".\")\n",
    "    varSem = varSem.replace(\",\",\".\")\n",
    "    varMes = varMes.replace(\",\",\".\")\n",
    "    varAno = varAno.replace(\",\",\".\")\n",
    "    var12Mes = var12Mes.replace(\",\",\".\")\n",
    "    valMin = valMin.replace(\",\",\".\")\n",
    "    valMax = valMax.replace(\",\",\".\")\n",
    "    \n",
    "    #Consolidação dos dados\n",
    "    dfAcoes = dfAcoes.append({'Data': date, \n",
    "                              'Ativo': ativo, \n",
    "                              'Valor': float(valor), \n",
    "                              'Variacao Dia': float(varDia),\n",
    "                              'Variacao Semana': float(varSem),\n",
    "                              'Variacao Mes': float(varMes),\n",
    "                              'Variacao Ano': float(varAno),\n",
    "                              'Variacao 12 meses': float(var12Mes),\n",
    "                              'Valor Minimo': float(valMin),\n",
    "                              'Valor Maximo': float(valMax)                             \n",
    "                             }, ignore_index = True)"
   ]
  },
  {
   "cell_type": "markdown",
   "id": "c3d8b1d2",
   "metadata": {},
   "source": [
    "# Verificação e exportação dos dados"
   ]
  },
  {
   "cell_type": "markdown",
   "id": "1e33b368",
   "metadata": {},
   "source": [
    "### Verificação do dataframe com dados dos ativos"
   ]
  },
  {
   "cell_type": "code",
   "execution_count": 12,
   "id": "cfee6797",
   "metadata": {},
   "outputs": [
    {
     "data": {
      "text/html": [
       "<div>\n",
       "<style scoped>\n",
       "    .dataframe tbody tr th:only-of-type {\n",
       "        vertical-align: middle;\n",
       "    }\n",
       "\n",
       "    .dataframe tbody tr th {\n",
       "        vertical-align: top;\n",
       "    }\n",
       "\n",
       "    .dataframe thead th {\n",
       "        text-align: right;\n",
       "    }\n",
       "</style>\n",
       "<table border=\"1\" class=\"dataframe\">\n",
       "  <thead>\n",
       "    <tr style=\"text-align: right;\">\n",
       "      <th></th>\n",
       "      <th>Data</th>\n",
       "      <th>Ativo</th>\n",
       "      <th>Valor</th>\n",
       "      <th>Variacao Dia</th>\n",
       "      <th>Variacao Semana</th>\n",
       "      <th>Variacao Mes</th>\n",
       "      <th>Variacao Ano</th>\n",
       "      <th>Variacao 12 meses</th>\n",
       "      <th>Valor Minimo</th>\n",
       "      <th>Valor Maximo</th>\n",
       "    </tr>\n",
       "  </thead>\n",
       "  <tbody>\n",
       "    <tr>\n",
       "      <th>0</th>\n",
       "      <td>10/10/2022</td>\n",
       "      <td>SLCE3</td>\n",
       "      <td>44.73</td>\n",
       "      <td>6.04</td>\n",
       "      <td>6.05</td>\n",
       "      <td>3.33</td>\n",
       "      <td>14.52</td>\n",
       "      <td>8.63</td>\n",
       "      <td>42.54</td>\n",
       "      <td>45.34</td>\n",
       "    </tr>\n",
       "    <tr>\n",
       "      <th>1</th>\n",
       "      <td>10/10/2022</td>\n",
       "      <td>SMTO3</td>\n",
       "      <td>27.67</td>\n",
       "      <td>5.53</td>\n",
       "      <td>5.53</td>\n",
       "      <td>8.42</td>\n",
       "      <td>-18.11</td>\n",
       "      <td>-19.53</td>\n",
       "      <td>26.17</td>\n",
       "      <td>27.87</td>\n",
       "    </tr>\n",
       "    <tr>\n",
       "      <th>2</th>\n",
       "      <td>10/10/2022</td>\n",
       "      <td>BRFS3</td>\n",
       "      <td>14.55</td>\n",
       "      <td>5.13</td>\n",
       "      <td>5.13</td>\n",
       "      <td>12.97</td>\n",
       "      <td>-35.39</td>\n",
       "      <td>-44.74</td>\n",
       "      <td>13.86</td>\n",
       "      <td>14.60</td>\n",
       "    </tr>\n",
       "    <tr>\n",
       "      <th>3</th>\n",
       "      <td>10/10/2022</td>\n",
       "      <td>JBSS3</td>\n",
       "      <td>25.68</td>\n",
       "      <td>4.81</td>\n",
       "      <td>4.82</td>\n",
       "      <td>2.23</td>\n",
       "      <td>-30.41</td>\n",
       "      <td>-27.46</td>\n",
       "      <td>24.46</td>\n",
       "      <td>25.75</td>\n",
       "    </tr>\n",
       "    <tr>\n",
       "      <th>4</th>\n",
       "      <td>10/10/2022</td>\n",
       "      <td>BEEF3</td>\n",
       "      <td>13.20</td>\n",
       "      <td>4.18</td>\n",
       "      <td>4.18</td>\n",
       "      <td>5.26</td>\n",
       "      <td>29.74</td>\n",
       "      <td>28.84</td>\n",
       "      <td>12.56</td>\n",
       "      <td>13.29</td>\n",
       "    </tr>\n",
       "  </tbody>\n",
       "</table>\n",
       "</div>"
      ],
      "text/plain": [
       "         Data  Ativo  Valor  Variacao Dia  Variacao Semana  Variacao Mes  \\\n",
       "0  10/10/2022  SLCE3  44.73          6.04             6.05          3.33   \n",
       "1  10/10/2022  SMTO3  27.67          5.53             5.53          8.42   \n",
       "2  10/10/2022  BRFS3  14.55          5.13             5.13         12.97   \n",
       "3  10/10/2022  JBSS3  25.68          4.81             4.82          2.23   \n",
       "4  10/10/2022  BEEF3  13.20          4.18             4.18          5.26   \n",
       "\n",
       "   Variacao Ano  Variacao 12 meses  Valor Minimo  Valor Maximo  \n",
       "0         14.52               8.63         42.54         45.34  \n",
       "1        -18.11             -19.53         26.17         27.87  \n",
       "2        -35.39             -44.74         13.86         14.60  \n",
       "3        -30.41             -27.46         24.46         25.75  \n",
       "4         29.74              28.84         12.56         13.29  "
      ]
     },
     "execution_count": 12,
     "metadata": {},
     "output_type": "execute_result"
    }
   ],
   "source": [
    "dfAcoes"
   ]
  },
  {
   "cell_type": "markdown",
   "id": "c7a0ab91",
   "metadata": {},
   "source": [
    "### Verificação do dataframe com dados da Ibovespa"
   ]
  },
  {
   "cell_type": "code",
   "execution_count": 13,
   "id": "7a0a9fad",
   "metadata": {
    "scrolled": false
   },
   "outputs": [
    {
     "data": {
      "text/html": [
       "<div>\n",
       "<style scoped>\n",
       "    .dataframe tbody tr th:only-of-type {\n",
       "        vertical-align: middle;\n",
       "    }\n",
       "\n",
       "    .dataframe tbody tr th {\n",
       "        vertical-align: top;\n",
       "    }\n",
       "\n",
       "    .dataframe thead th {\n",
       "        text-align: right;\n",
       "    }\n",
       "</style>\n",
       "<table border=\"1\" class=\"dataframe\">\n",
       "  <thead>\n",
       "    <tr style=\"text-align: right;\">\n",
       "      <th></th>\n",
       "      <th>Data</th>\n",
       "      <th>Indice</th>\n",
       "      <th>Pontos</th>\n",
       "      <th>Variacao</th>\n",
       "    </tr>\n",
       "  </thead>\n",
       "  <tbody>\n",
       "    <tr>\n",
       "      <th>0</th>\n",
       "      <td>10/10/2022</td>\n",
       "      <td>Ibovespa</td>\n",
       "      <td>115940</td>\n",
       "      <td>-0.37</td>\n",
       "    </tr>\n",
       "  </tbody>\n",
       "</table>\n",
       "</div>"
      ],
      "text/plain": [
       "         Data    Indice  Pontos  Variacao\n",
       "0  10/10/2022  Ibovespa  115940     -0.37"
      ]
     },
     "execution_count": 13,
     "metadata": {},
     "output_type": "execute_result"
    }
   ],
   "source": [
    "dfIndices"
   ]
  },
  {
   "cell_type": "markdown",
   "id": "845e9f2e",
   "metadata": {},
   "source": [
    "### Exportação dos dataframes para arquivos em Excel"
   ]
  },
  {
   "cell_type": "code",
   "execution_count": 14,
   "id": "8aabdd7b",
   "metadata": {},
   "outputs": [],
   "source": [
    "dfIndices.to_excel(\"Indices.xlsx\", index=False)\n",
    "dfAcoes.to_excel(\"Acoes.xlsx\", index=False)"
   ]
  }
 ],
 "metadata": {
  "kernelspec": {
   "display_name": "Python 3 (ipykernel)",
   "language": "python",
   "name": "python3"
  },
  "language_info": {
   "codemirror_mode": {
    "name": "ipython",
    "version": 3
   },
   "file_extension": ".py",
   "mimetype": "text/x-python",
   "name": "python",
   "nbconvert_exporter": "python",
   "pygments_lexer": "ipython3",
   "version": "3.9.7"
  }
 },
 "nbformat": 4,
 "nbformat_minor": 5
}
